{
  "nbformat": 4,
  "nbformat_minor": 0,
  "metadata": {
    "colab": {
      "provenance": [],
      "collapsed_sections": [
        "e5id3BAnjeMM",
        "nSp7w6PSjhAr",
        "5ucoSSCD-0jI",
        "Mx0_RArGKYcm",
        "cmNRVAFVXlcb",
        "3thBLiVhXsHk",
        "BtHb3cLAXwBt",
        "eNPpgab9vwzr",
        "6Sb-0qdb76CZ",
        "OUl7Q5NWA6fI",
        "Htwp5cQ0BD64"
      ],
      "authorship_tag": "ABX9TyOQSv4qQ6lTrFwENkEWwDIJ",
      "include_colab_link": true
    },
    "kernelspec": {
      "name": "python3",
      "display_name": "Python 3"
    },
    "language_info": {
      "name": "python"
    }
  },
  "cells": [
    {
      "cell_type": "markdown",
      "metadata": {
        "id": "view-in-github",
        "colab_type": "text"
      },
      "source": [
        "<a href=\"https://colab.research.google.com/github/MahmoodAbdali79/Telecom-Churn/blob/main/Telecom_Churn_Model.ipynb\" target=\"_parent\"><img src=\"https://colab.research.google.com/assets/colab-badge.svg\" alt=\"Open In Colab\"/></a>"
      ]
    },
    {
      "cell_type": "markdown",
      "source": [
        "# Seting Up"
      ],
      "metadata": {
        "id": "e5id3BAnjeMM"
      }
    },
    {
      "cell_type": "code",
      "source": [
        "import numpy as np\n",
        "import pandas as pd\n",
        "import matplotlib.pyplot as plt\n",
        "import seaborn as sns\n",
        "from sklearn.feature_selection import VarianceThreshold\n",
        "from sklearn.preprocessing import LabelEncoder\n",
        "from sklearn.preprocessing import RobustScaler"
      ],
      "metadata": {
        "id": "cE2GeaV59qjB"
      },
      "execution_count": 1,
      "outputs": []
    },
    {
      "cell_type": "code",
      "source": [
        "from google.colab import drive\n",
        "drive.mount('/content/drive')"
      ],
      "metadata": {
        "colab": {
          "base_uri": "https://localhost:8080/"
        },
        "id": "bqH-QRJS9sW5",
        "outputId": "00828b5a-e283-4a5f-be13-8cc909eaebfb"
      },
      "execution_count": 2,
      "outputs": [
        {
          "output_type": "stream",
          "name": "stdout",
          "text": [
            "Mounted at /content/drive\n"
          ]
        }
      ]
    },
    {
      "cell_type": "markdown",
      "source": [
        "# Load Data & Manipulation"
      ],
      "metadata": {
        "id": "nSp7w6PSjhAr"
      }
    },
    {
      "cell_type": "code",
      "source": [
        "df = pd.read_csv('drive/MyDrive/Data/Telco-Customer-Churn.csv')"
      ],
      "metadata": {
        "id": "E5uFXQLI9oad"
      },
      "execution_count": 3,
      "outputs": []
    },
    {
      "cell_type": "code",
      "source": [
        "def preprocess(df):\n",
        "  # drop Customer ID\n",
        "  df.drop(['customerID'], axis=1, inplace=True)\n",
        "\n",
        "  # turn into numerical and fill NA value\n",
        "  df['TotalCharges'] = pd.to_numeric(df['TotalCharges'], errors='coerce')\n",
        "  df['TotalCharges_missing'] = df['TotalCharges'].isnull().astype(int)\n",
        "\n",
        "  imputation_value = df['TotalCharges'].mode()[0] # for considering mode\n",
        "  # imputation_value = df['TotalCharges'].mean() # for considering mean\n",
        "  # imputation_value = df['TotalCharges'].median() # for considering median\n",
        "  df['TotalCharges'] = df['TotalCharges'].fillna(imputation_value)\n",
        "\n",
        "  # drop rows with tenure of 0\n",
        "  df.drop(labels=df[df['tenure']==0].index, axis=0, inplace=True)\n",
        "\n",
        "  # map SeniorCitizen\n",
        "  df['SeniorCitizen'] = df['SeniorCitizen'].map({0:\"No\", 1:\"Yes\"})\n",
        "\n",
        "  for col in df.columns:\n",
        "    if len(df[col].unique()) < 2:\n",
        "      df.drop(col, axis=1, inplace=True)\n",
        "  return df"
      ],
      "metadata": {
        "id": "SnCRDQse8P5Y"
      },
      "execution_count": 4,
      "outputs": []
    },
    {
      "cell_type": "code",
      "source": [
        "df = preprocess(df)"
      ],
      "metadata": {
        "id": "QzAk8Db18Rfn"
      },
      "execution_count": 5,
      "outputs": []
    },
    {
      "cell_type": "markdown",
      "source": [
        "# Feature Engineering"
      ],
      "metadata": {
        "id": "XYQH7P3a-hlR"
      }
    },
    {
      "cell_type": "markdown",
      "source": [
        " ## Feature Encoding\n"
      ],
      "metadata": {
        "id": "5ucoSSCD-0jI"
      }
    },
    {
      "cell_type": "markdown",
      "source": [
        "  - Quantitative data:\n",
        "    - [ ] Tranformation\n",
        "    - [ ] Bining\n",
        "    - [ ] Demention reduction\n",
        "    - [ ] Standard and scale\n",
        "  - Categorical data:\n",
        "    - [ ] One hot encoding\n",
        "    - [x] Lable endcoding\n",
        "    - [ ] Hashing"
      ],
      "metadata": {
        "id": "m7KTAO9VLDPG"
      }
    },
    {
      "cell_type": "code",
      "source": [
        "#Create a label encoder object\n",
        "le = LabelEncoder()\n",
        "# Label Encoding will be used for columns with 2 or less unique\n",
        "for col in df.columns:\n",
        "    if df[col].dtype == 'object':\n",
        "      le.fit(df[col])\n",
        "      df[col] = le.transform(df[col])"
      ],
      "metadata": {
        "id": "Aiz85fB17Sd_"
      },
      "execution_count": 6,
      "outputs": []
    },
    {
      "cell_type": "markdown",
      "source": [
        "## Feature Selection"
      ],
      "metadata": {
        "id": "3klW0S5zAuFp"
      }
    },
    {
      "cell_type": "markdown",
      "source": [
        "### Filter Method\n",
        "- Correation\n",
        "  - Best feature for remove: MonthlyCharges, tenure             \n",
        "- Vatiance\n",
        "  - Best feature for remove:  \n",
        "  PaperlessBilling, gender, Dependents, PhoneService, Partner, SeniorCitizen\n",
        "- Univariate feature selection:\n",
        "  - Best feature for remove:  \n",
        "  MultipleLines, gender, StreamingTV, StreamingMovies, PhoneService, InternetService"
      ],
      "metadata": {
        "id": "Mx0_RArGKYcm"
      }
    },
    {
      "cell_type": "markdown",
      "source": [
        "#### Correation"
      ],
      "metadata": {
        "id": "cmNRVAFVXlcb"
      }
    },
    {
      "cell_type": "code",
      "source": [
        "corr = df.corr()\n",
        "\n",
        "threshold = 0.5  # threshold\n",
        "\n",
        "# Find pairs of features that exceed the threshold\n",
        "highly_correlated_pairs = []\n",
        "for i in range(len(corr.columns)):\n",
        "    for j in range(i+1, len(corr.columns)):\n",
        "        if abs(corr.iloc[i, j]) > threshold:\n",
        "            highly_correlated_pairs.append((corr.index[i], corr.columns[j], corr.iloc[i, j].round(3)))\n",
        "\n",
        "# Print highly correlated pairs\n",
        "print(\"Highly correlated pairs with correlation coefficient > {}: \".format(threshold))\n",
        "for pair in highly_correlated_pairs:\n",
        "    print(pair)\n",
        "\n",
        "\n",
        "corr_omissions = ['tenure', 'MonthlyCharges']"
      ],
      "metadata": {
        "colab": {
          "base_uri": "https://localhost:8080/"
        },
        "id": "a-2GQnZzBVi4",
        "outputId": "8ebe0e47-b1bd-48f8-874d-1b2caa992226"
      },
      "execution_count": 7,
      "outputs": [
        {
          "output_type": "stream",
          "name": "stdout",
          "text": [
            "Highly correlated pairs with correlation coefficient > 0.5: \n",
            "('tenure', 'Contract', 0.677)\n",
            "('tenure', 'TotalCharges', 0.826)\n",
            "('MonthlyCharges', 'TotalCharges', 0.651)\n"
          ]
        }
      ]
    },
    {
      "cell_type": "code",
      "source": [
        "correlation = df.corrwith(df.Churn)\n",
        "correlation = correlation[correlation!=1].sort_values()\n",
        "correlation"
      ],
      "metadata": {
        "colab": {
          "base_uri": "https://localhost:8080/"
        },
        "id": "BMla4BMyXFtb",
        "outputId": "9fb72fc5-f73b-4ab0-d1ac-d1a98d6f7d23"
      },
      "execution_count": 8,
      "outputs": [
        {
          "output_type": "execute_result",
          "data": {
            "text/plain": [
              "Contract           -0.396150\n",
              "tenure             -0.354049\n",
              "OnlineSecurity     -0.289050\n",
              "TechSupport        -0.282232\n",
              "TotalCharges       -0.199484\n",
              "OnlineBackup       -0.195290\n",
              "DeviceProtection   -0.177883\n",
              "Dependents         -0.163128\n",
              "Partner            -0.149982\n",
              "InternetService    -0.047097\n",
              "StreamingMovies    -0.038802\n",
              "StreamingTV        -0.036303\n",
              "gender             -0.008545\n",
              "PhoneService        0.011691\n",
              "MultipleLines       0.038043\n",
              "PaymentMethod       0.107852\n",
              "SeniorCitizen       0.150541\n",
              "PaperlessBilling    0.191454\n",
              "MonthlyCharges      0.192858\n",
              "dtype: float64"
            ]
          },
          "metadata": {},
          "execution_count": 8
        }
      ]
    },
    {
      "cell_type": "markdown",
      "source": [
        "#### Vatiance"
      ],
      "metadata": {
        "id": "3thBLiVhXsHk"
      }
    },
    {
      "cell_type": "code",
      "source": [
        "threshold = 0.5  # Example threshold\n",
        "\n",
        "# Apply VarianceThreshold\n",
        "selector = VarianceThreshold(threshold=threshold)\n",
        "features = df.drop('Churn', axis=1)\n",
        "selector.fit(features)\n",
        "\n",
        "# Get selected features\n",
        "selected_features = features.columns[selector.get_support()]\n",
        "\n",
        "x = set(selected_features)\n",
        "y = set(features.columns)\n",
        "print(\"Selected features based on variance threshold of {}: \".format(threshold))\n",
        "print('Potential features to remove: ', y-x)\n",
        "\n",
        "varianc_omissions = list(y-x)"
      ],
      "metadata": {
        "colab": {
          "base_uri": "https://localhost:8080/"
        },
        "id": "d2PS66p8l70R",
        "outputId": "64c132a2-b135-4309-8037-4366101cb984"
      },
      "execution_count": 9,
      "outputs": [
        {
          "output_type": "stream",
          "name": "stdout",
          "text": [
            "Selected features based on variance threshold of 0.5: \n",
            "Potential features to remove:  {'SeniorCitizen', 'PhoneService', 'Partner', 'Dependents', 'PaperlessBilling', 'gender'}\n"
          ]
        }
      ]
    },
    {
      "cell_type": "markdown",
      "source": [
        "#### Univariate feature selection"
      ],
      "metadata": {
        "id": "BtHb3cLAXwBt"
      }
    },
    {
      "cell_type": "code",
      "source": [
        "from sklearn.feature_selection import SelectKBest\n",
        "from sklearn.feature_selection import f_classif\n",
        "from sklearn.model_selection import train_test_split\n",
        "\n",
        "\n",
        "X = df.drop('Churn', axis=1)\n",
        "y = df['Churn']\n",
        "\n",
        "# Split the data into training and testing sets\n",
        "X_train, X_test, y_train, y_test = train_test_split(X, y, test_size=0.2, random_state=42)\n",
        "\n",
        "# Perform feature selection using ANOVA F-value\n",
        "k = 13  # Number of features to select\n",
        "selector = SelectKBest(score_func=f_classif, k=k)\n",
        "X_train_selected = selector.fit_transform(X_train, y_train)\n",
        "selected_features = X.columns[selector.get_support()]\n",
        "\n",
        "x = set(selected_features)\n",
        "y = set(features.columns)\n",
        "print('Potential features to remove: ', y-x)\n",
        "\n",
        "univariate_omissions = list(y-x)"
      ],
      "metadata": {
        "colab": {
          "base_uri": "https://localhost:8080/"
        },
        "id": "LaWxEmH1qfEP",
        "outputId": "8255fdd1-67a0-4b20-94ce-b689c2de9323"
      },
      "execution_count": 10,
      "outputs": [
        {
          "output_type": "stream",
          "name": "stdout",
          "text": [
            "Potential features to remove:  {'StreamingTV', 'MultipleLines', 'PhoneService', 'InternetService', 'StreamingMovies', 'gender'}\n"
          ]
        }
      ]
    },
    {
      "cell_type": "markdown",
      "source": [
        "### conclusion for filtering\n",
        "- [x] correlation\n",
        "- [ ] variance\n",
        "- [ ] univariate"
      ],
      "metadata": {
        "id": "eNPpgab9vwzr"
      }
    },
    {
      "cell_type": "code",
      "source": [
        "def select_feature(df, method):\n",
        "  if method == 'corr':\n",
        "    X = df.drop(univariate_omissions + ['Churn'], axis=1)\n",
        "  elif method == 'varianc':\n",
        "    X = df.drop(varianc_omissions + ['Churn'], axis=1)\n",
        "  elif method == 'univariate':\n",
        "    X = df.drop(univariate_omissions + ['Churn'], axis=1)\n",
        "  Y = df['Churn']\n",
        "\n",
        "  return X, Y"
      ],
      "metadata": {
        "id": "2unfYyyjwWP1"
      },
      "execution_count": 11,
      "outputs": []
    },
    {
      "cell_type": "markdown",
      "source": [
        "## Feature Scaling"
      ],
      "metadata": {
        "id": "6Sb-0qdb76CZ"
      }
    },
    {
      "cell_type": "markdown",
      "source": [
        "- [ ] Standardization (Z-score normalization)\n",
        "- [ ] Min-Max sclaing\n",
        "- [x] Robust sclaling"
      ],
      "metadata": {
        "id": "XNGeZl0o8bEQ"
      }
    },
    {
      "cell_type": "code",
      "source": [
        "from sklearn.preprocessing import MinMaxScaler, StandardScaler, RobustScaler\n",
        "\n",
        "def plot_numerical_feature(cat, ax):\n",
        "  sns.kdeplot(X[cat][Y==0], color=\"Blue\", fill=True, ax=ax)\n",
        "  sns.kdeplot(X[cat][Y==1], color=\"Red\", fill= True, ax=ax)\n",
        "  ax.legend([\"Not Churn\",\"Churn\"],loc='upper right')\n",
        "  ax.set_title(f'Distribution of {col} by churn', fontweight=\"bold\")\n",
        "  fig.tight_layout()\n",
        "\n",
        "def scale_feature(data, name):\n",
        "  if name == 'MinMaxScaler':\n",
        "    scaler = MinMaxScaler()\n",
        "    data = scaler.fit_transform(data)\n",
        "  elif name == 'StandardScaler':\n",
        "    scaler = StandardScaler()\n",
        "    data = scaler.fit_transform(data)\n",
        "  elif name == 'RobustScaler':\n",
        "    robust_scaler = RobustScaler()\n",
        "    data = robust_scaler.fit_transform(data)\n",
        "  return  data"
      ],
      "metadata": {
        "id": "bdUhiz1Z8arH"
      },
      "execution_count": 12,
      "outputs": []
    },
    {
      "cell_type": "markdown",
      "source": [
        "# Model Selection"
      ],
      "metadata": {
        "id": "ZgK2ateeAxKp"
      }
    },
    {
      "cell_type": "markdown",
      "source": [
        "Some issues:\n",
        "- Imbalanced data\n",
        "  - [x] Target\n",
        "  - [x] train, test\n",
        "- [ ] Feature selection\n",
        "  - [ ] corr\n",
        "  - [ ] variance\n",
        "  - [x] uni\n",
        "- [x] Define metrics\n",
        "- [x] using cross validation\n",
        "- [ ] Hypetparameter tuning"
      ],
      "metadata": {
        "id": "64yFj_INuW2A"
      }
    },
    {
      "cell_type": "markdown",
      "source": [
        "## Balance Data"
      ],
      "metadata": {
        "id": "DlYRQdJTxmsd"
      }
    },
    {
      "cell_type": "markdown",
      "source": [
        "Over-sampling & under_sampling"
      ],
      "metadata": {
        "id": "epM14Pxmye5H"
      }
    },
    {
      "cell_type": "code",
      "source": [
        "# !pip install -U imbalanced-learn\n",
        "from imblearn.over_sampling import SMOTE\n",
        "from imblearn.under_sampling import RandomUnderSampler"
      ],
      "metadata": {
        "id": "OXnyFj_Sx-u4"
      },
      "execution_count": 13,
      "outputs": []
    },
    {
      "cell_type": "code",
      "source": [
        "def Test_model(X, Y, clf):\n",
        "\n",
        "  # Inirial mterics dict\n",
        "  Metrics = {}\n",
        "\n",
        "  # Split the data into training and testing sets\n",
        "  X_train, X_test, y_train, y_test = train_test_split(X, Y, test_size=0.2, random_state=42)\n",
        "  clf.fit(X_train, y_train)\n",
        "  y_pred_original = clf.predict(X_test)\n",
        "  recall_original = recall_score(y_test, y_pred_original)\n",
        "  precision_original = precision_score(y_test, y_pred_original)\n",
        "  Metrics['Originla'] = [recall_original, precision_original]\n",
        "\n",
        "  # Over-sampling (SMOTE)\n",
        "  smote = SMOTE(random_state=42)\n",
        "  X_resampled_smote, y_resampled_smote = smote.fit_resample(X, Y)\n",
        "  X_train, X_test, y_train, y_test = train_test_split(X_resampled_smote, y_resampled_smote, test_size=0.2, random_state=42)\n",
        "  clf.fit(X_train, y_train)\n",
        "  y_pred_smote = clf.predict(X_test)\n",
        "  recall_smote = recall_score(y_test, y_pred_smote)\n",
        "  precision_smote = precision_score(y_test, y_pred_smote)\n",
        "  Metrics['Smote'] = [recall_smote, precision_smote]\n",
        "\n",
        "  # Under-sampling (Random Under-sampling)\n",
        "  rus = RandomUnderSampler(random_state=42)\n",
        "  X_resampled_rus, y_resampled_rus = rus.fit_resample(X, Y)\n",
        "  X_train, X_test, y_train, y_test = train_test_split(X_resampled_rus, y_resampled_rus, test_size=0.2, random_state=42)\n",
        "  clf.fit(X_train, y_train)\n",
        "  y_pred_rus = clf.predict(X_test)\n",
        "  recall_rus = recall_score(y_test, y_pred_rus)\n",
        "  precision_rus = precision_score(y_test, y_pred_rus)\n",
        "  Metrics['RandomUnderSampler'] = [recall_rus, precision_rus]\n",
        "\n",
        "  last_balance_name = max(Metrics, key=Metrics.get)\n",
        "\n",
        "  return last_balance_name, Metrics[last_balance_name]"
      ],
      "metadata": {
        "id": "_978xgIhwUdf"
      },
      "execution_count": 14,
      "outputs": []
    },
    {
      "cell_type": "markdown",
      "source": [
        "## Creating Molds"
      ],
      "metadata": {
        "id": "IiZUFFnnyTPh"
      }
    },
    {
      "cell_type": "code",
      "source": [
        "from sklearn.model_selection import train_test_split, cross_val_score, KFold\n",
        "from sklearn.svm import SVC\n",
        "from sklearn.ensemble import RandomForestClassifier, GradientBoostingClassifier, BaggingClassifier, AdaBoostClassifier\n",
        "from sklearn.neural_network import MLPClassifier\n",
        "from sklearn.tree import DecisionTreeClassifier\n",
        "from sklearn.linear_model import LogisticRegression\n",
        "from sklearn.naive_bayes import GaussianNB\n",
        "from sklearn.svm import LinearSVC\n",
        "from sklearn.metrics import precision_score, recall_score, classification_report\n",
        "from sklearn.model_selection import GridSearchCV\n",
        "from sklearn.ensemble import VotingClassifier"
      ],
      "metadata": {
        "id": "ouvtnLKiA1_A"
      },
      "execution_count": 26,
      "outputs": []
    },
    {
      "cell_type": "code",
      "source": [
        "feature_selection = ['corr','varianc','univariate']\n",
        "\n",
        "scalers = ['MinMaxScaler','StandardScaler','RobustScaler']\n",
        "\n",
        "Models = {}\n",
        "Models = {\n",
        "    'svm_kernel': SVC(kernel='rbf', random_state=42),\n",
        "    'random_forest': RandomForestClassifier(random_state=42),\n",
        "    # 'neural_network': MLPClassifier(random_state=42),\n",
        "    'gradient_boosting': GradientBoostingClassifier(random_state=42),\n",
        "    'decision_tree': DecisionTreeClassifier(random_state=42),\n",
        "    'logistic_regression': LogisticRegression(random_state=42),\n",
        "    'naive_bayes': GaussianNB(),\n",
        "    'linear_svm': LinearSVC(random_state=42)\n",
        "}\n",
        "\n",
        "Modles_metrics = {}\n",
        "Modles_metrics = {'Model name': [],\n",
        "                  'Feature selection': [],\n",
        "                  'Scalre': [],\n",
        "                  'Balance type': [],\n",
        "                  'Recall': [],\n",
        "                  'Precision': [],\n",
        "\n",
        "                  }\n",
        "\n",
        "for fs in feature_selection:\n",
        "  X, Y = select_feature(df, fs)\n",
        "\n",
        "  for scale in scalers:\n",
        "    X = scale_feature(X, scale)\n",
        "\n",
        "    for name, model in Models.items():\n",
        "      Result = Test_model(X, Y, model)\n",
        "      Modles_metrics['Model name'].append(name)\n",
        "      Modles_metrics['Feature selection'].append(fs)\n",
        "      Modles_metrics['Scalre'].append(scale)\n",
        "      Modles_metrics['Balance type'].append(Result[0])\n",
        "      Modles_metrics['Recall'].append(Result[1][0])\n",
        "      Modles_metrics['Precision'].append(Result[1][1])\n",
        "\n",
        "Modles_metrics = pd.DataFrame(Modles_metrics).sort_values(by='Recall', ascending=False)"
      ],
      "metadata": {
        "id": "PQSaY_HGInFA"
      },
      "execution_count": null,
      "outputs": []
    },
    {
      "cell_type": "code",
      "source": [
        "Modles_metrics"
      ],
      "metadata": {
        "colab": {
          "base_uri": "https://localhost:8080/",
          "height": 424
        },
        "id": "Mvfy3KVUoab5",
        "outputId": "fa146e3b-943a-4496-afdb-98dc89e28647"
      },
      "execution_count": null,
      "outputs": [
        {
          "output_type": "execute_result",
          "data": {
            "text/plain": [
              "           Model name Feature selection          Scalre Balance type  \\\n",
              "51  gradient_boosting        univariate  StandardScaler        Smote   \n",
              "9   gradient_boosting              corr  StandardScaler        Smote   \n",
              "2   gradient_boosting              corr    MinMaxScaler        Smote   \n",
              "44  gradient_boosting        univariate    MinMaxScaler        Smote   \n",
              "16  gradient_boosting              corr    RobustScaler        Smote   \n",
              "..                ...               ...             ...          ...   \n",
              "24      decision_tree           varianc    MinMaxScaler        Smote   \n",
              "52      decision_tree        univariate  StandardScaler        Smote   \n",
              "10      decision_tree              corr  StandardScaler        Smote   \n",
              "17      decision_tree              corr    RobustScaler        Smote   \n",
              "59      decision_tree        univariate    RobustScaler        Smote   \n",
              "\n",
              "      Recall  Precision  \n",
              "51  0.866861   0.800000  \n",
              "9   0.866861   0.800000  \n",
              "2   0.855199   0.799273  \n",
              "44  0.855199   0.799273  \n",
              "16  0.854227   0.787634  \n",
              "..       ...        ...  \n",
              "24  0.765792   0.777120  \n",
              "52  0.763848   0.763848  \n",
              "10  0.763848   0.763848  \n",
              "17  0.759961   0.770443  \n",
              "59  0.759961   0.770443  \n",
              "\n",
              "[63 rows x 6 columns]"
            ],
            "text/html": [
              "\n",
              "  <div id=\"df-c7c06deb-4fc4-4961-b0ca-62b6ef34beed\" class=\"colab-df-container\">\n",
              "    <div>\n",
              "<style scoped>\n",
              "    .dataframe tbody tr th:only-of-type {\n",
              "        vertical-align: middle;\n",
              "    }\n",
              "\n",
              "    .dataframe tbody tr th {\n",
              "        vertical-align: top;\n",
              "    }\n",
              "\n",
              "    .dataframe thead th {\n",
              "        text-align: right;\n",
              "    }\n",
              "</style>\n",
              "<table border=\"1\" class=\"dataframe\">\n",
              "  <thead>\n",
              "    <tr style=\"text-align: right;\">\n",
              "      <th></th>\n",
              "      <th>Model name</th>\n",
              "      <th>Feature selection</th>\n",
              "      <th>Scalre</th>\n",
              "      <th>Balance type</th>\n",
              "      <th>Recall</th>\n",
              "      <th>Precision</th>\n",
              "    </tr>\n",
              "  </thead>\n",
              "  <tbody>\n",
              "    <tr>\n",
              "      <th>51</th>\n",
              "      <td>gradient_boosting</td>\n",
              "      <td>univariate</td>\n",
              "      <td>StandardScaler</td>\n",
              "      <td>Smote</td>\n",
              "      <td>0.866861</td>\n",
              "      <td>0.800000</td>\n",
              "    </tr>\n",
              "    <tr>\n",
              "      <th>9</th>\n",
              "      <td>gradient_boosting</td>\n",
              "      <td>corr</td>\n",
              "      <td>StandardScaler</td>\n",
              "      <td>Smote</td>\n",
              "      <td>0.866861</td>\n",
              "      <td>0.800000</td>\n",
              "    </tr>\n",
              "    <tr>\n",
              "      <th>2</th>\n",
              "      <td>gradient_boosting</td>\n",
              "      <td>corr</td>\n",
              "      <td>MinMaxScaler</td>\n",
              "      <td>Smote</td>\n",
              "      <td>0.855199</td>\n",
              "      <td>0.799273</td>\n",
              "    </tr>\n",
              "    <tr>\n",
              "      <th>44</th>\n",
              "      <td>gradient_boosting</td>\n",
              "      <td>univariate</td>\n",
              "      <td>MinMaxScaler</td>\n",
              "      <td>Smote</td>\n",
              "      <td>0.855199</td>\n",
              "      <td>0.799273</td>\n",
              "    </tr>\n",
              "    <tr>\n",
              "      <th>16</th>\n",
              "      <td>gradient_boosting</td>\n",
              "      <td>corr</td>\n",
              "      <td>RobustScaler</td>\n",
              "      <td>Smote</td>\n",
              "      <td>0.854227</td>\n",
              "      <td>0.787634</td>\n",
              "    </tr>\n",
              "    <tr>\n",
              "      <th>...</th>\n",
              "      <td>...</td>\n",
              "      <td>...</td>\n",
              "      <td>...</td>\n",
              "      <td>...</td>\n",
              "      <td>...</td>\n",
              "      <td>...</td>\n",
              "    </tr>\n",
              "    <tr>\n",
              "      <th>24</th>\n",
              "      <td>decision_tree</td>\n",
              "      <td>varianc</td>\n",
              "      <td>MinMaxScaler</td>\n",
              "      <td>Smote</td>\n",
              "      <td>0.765792</td>\n",
              "      <td>0.777120</td>\n",
              "    </tr>\n",
              "    <tr>\n",
              "      <th>52</th>\n",
              "      <td>decision_tree</td>\n",
              "      <td>univariate</td>\n",
              "      <td>StandardScaler</td>\n",
              "      <td>Smote</td>\n",
              "      <td>0.763848</td>\n",
              "      <td>0.763848</td>\n",
              "    </tr>\n",
              "    <tr>\n",
              "      <th>10</th>\n",
              "      <td>decision_tree</td>\n",
              "      <td>corr</td>\n",
              "      <td>StandardScaler</td>\n",
              "      <td>Smote</td>\n",
              "      <td>0.763848</td>\n",
              "      <td>0.763848</td>\n",
              "    </tr>\n",
              "    <tr>\n",
              "      <th>17</th>\n",
              "      <td>decision_tree</td>\n",
              "      <td>corr</td>\n",
              "      <td>RobustScaler</td>\n",
              "      <td>Smote</td>\n",
              "      <td>0.759961</td>\n",
              "      <td>0.770443</td>\n",
              "    </tr>\n",
              "    <tr>\n",
              "      <th>59</th>\n",
              "      <td>decision_tree</td>\n",
              "      <td>univariate</td>\n",
              "      <td>RobustScaler</td>\n",
              "      <td>Smote</td>\n",
              "      <td>0.759961</td>\n",
              "      <td>0.770443</td>\n",
              "    </tr>\n",
              "  </tbody>\n",
              "</table>\n",
              "<p>63 rows × 6 columns</p>\n",
              "</div>\n",
              "    <div class=\"colab-df-buttons\">\n",
              "\n",
              "  <div class=\"colab-df-container\">\n",
              "    <button class=\"colab-df-convert\" onclick=\"convertToInteractive('df-c7c06deb-4fc4-4961-b0ca-62b6ef34beed')\"\n",
              "            title=\"Convert this dataframe to an interactive table.\"\n",
              "            style=\"display:none;\">\n",
              "\n",
              "  <svg xmlns=\"http://www.w3.org/2000/svg\" height=\"24px\" viewBox=\"0 -960 960 960\">\n",
              "    <path d=\"M120-120v-720h720v720H120Zm60-500h600v-160H180v160Zm220 220h160v-160H400v160Zm0 220h160v-160H400v160ZM180-400h160v-160H180v160Zm440 0h160v-160H620v160ZM180-180h160v-160H180v160Zm440 0h160v-160H620v160Z\"/>\n",
              "  </svg>\n",
              "    </button>\n",
              "\n",
              "  <style>\n",
              "    .colab-df-container {\n",
              "      display:flex;\n",
              "      gap: 12px;\n",
              "    }\n",
              "\n",
              "    .colab-df-convert {\n",
              "      background-color: #E8F0FE;\n",
              "      border: none;\n",
              "      border-radius: 50%;\n",
              "      cursor: pointer;\n",
              "      display: none;\n",
              "      fill: #1967D2;\n",
              "      height: 32px;\n",
              "      padding: 0 0 0 0;\n",
              "      width: 32px;\n",
              "    }\n",
              "\n",
              "    .colab-df-convert:hover {\n",
              "      background-color: #E2EBFA;\n",
              "      box-shadow: 0px 1px 2px rgba(60, 64, 67, 0.3), 0px 1px 3px 1px rgba(60, 64, 67, 0.15);\n",
              "      fill: #174EA6;\n",
              "    }\n",
              "\n",
              "    .colab-df-buttons div {\n",
              "      margin-bottom: 4px;\n",
              "    }\n",
              "\n",
              "    [theme=dark] .colab-df-convert {\n",
              "      background-color: #3B4455;\n",
              "      fill: #D2E3FC;\n",
              "    }\n",
              "\n",
              "    [theme=dark] .colab-df-convert:hover {\n",
              "      background-color: #434B5C;\n",
              "      box-shadow: 0px 1px 3px 1px rgba(0, 0, 0, 0.15);\n",
              "      filter: drop-shadow(0px 1px 2px rgba(0, 0, 0, 0.3));\n",
              "      fill: #FFFFFF;\n",
              "    }\n",
              "  </style>\n",
              "\n",
              "    <script>\n",
              "      const buttonEl =\n",
              "        document.querySelector('#df-c7c06deb-4fc4-4961-b0ca-62b6ef34beed button.colab-df-convert');\n",
              "      buttonEl.style.display =\n",
              "        google.colab.kernel.accessAllowed ? 'block' : 'none';\n",
              "\n",
              "      async function convertToInteractive(key) {\n",
              "        const element = document.querySelector('#df-c7c06deb-4fc4-4961-b0ca-62b6ef34beed');\n",
              "        const dataTable =\n",
              "          await google.colab.kernel.invokeFunction('convertToInteractive',\n",
              "                                                    [key], {});\n",
              "        if (!dataTable) return;\n",
              "\n",
              "        const docLinkHtml = 'Like what you see? Visit the ' +\n",
              "          '<a target=\"_blank\" href=https://colab.research.google.com/notebooks/data_table.ipynb>data table notebook</a>'\n",
              "          + ' to learn more about interactive tables.';\n",
              "        element.innerHTML = '';\n",
              "        dataTable['output_type'] = 'display_data';\n",
              "        await google.colab.output.renderOutput(dataTable, element);\n",
              "        const docLink = document.createElement('div');\n",
              "        docLink.innerHTML = docLinkHtml;\n",
              "        element.appendChild(docLink);\n",
              "      }\n",
              "    </script>\n",
              "  </div>\n",
              "\n",
              "\n",
              "<div id=\"df-7f41b870-2ff2-40c1-be2b-7eb461893041\">\n",
              "  <button class=\"colab-df-quickchart\" onclick=\"quickchart('df-7f41b870-2ff2-40c1-be2b-7eb461893041')\"\n",
              "            title=\"Suggest charts\"\n",
              "            style=\"display:none;\">\n",
              "\n",
              "<svg xmlns=\"http://www.w3.org/2000/svg\" height=\"24px\"viewBox=\"0 0 24 24\"\n",
              "     width=\"24px\">\n",
              "    <g>\n",
              "        <path d=\"M19 3H5c-1.1 0-2 .9-2 2v14c0 1.1.9 2 2 2h14c1.1 0 2-.9 2-2V5c0-1.1-.9-2-2-2zM9 17H7v-7h2v7zm4 0h-2V7h2v10zm4 0h-2v-4h2v4z\"/>\n",
              "    </g>\n",
              "</svg>\n",
              "  </button>\n",
              "\n",
              "<style>\n",
              "  .colab-df-quickchart {\n",
              "      --bg-color: #E8F0FE;\n",
              "      --fill-color: #1967D2;\n",
              "      --hover-bg-color: #E2EBFA;\n",
              "      --hover-fill-color: #174EA6;\n",
              "      --disabled-fill-color: #AAA;\n",
              "      --disabled-bg-color: #DDD;\n",
              "  }\n",
              "\n",
              "  [theme=dark] .colab-df-quickchart {\n",
              "      --bg-color: #3B4455;\n",
              "      --fill-color: #D2E3FC;\n",
              "      --hover-bg-color: #434B5C;\n",
              "      --hover-fill-color: #FFFFFF;\n",
              "      --disabled-bg-color: #3B4455;\n",
              "      --disabled-fill-color: #666;\n",
              "  }\n",
              "\n",
              "  .colab-df-quickchart {\n",
              "    background-color: var(--bg-color);\n",
              "    border: none;\n",
              "    border-radius: 50%;\n",
              "    cursor: pointer;\n",
              "    display: none;\n",
              "    fill: var(--fill-color);\n",
              "    height: 32px;\n",
              "    padding: 0;\n",
              "    width: 32px;\n",
              "  }\n",
              "\n",
              "  .colab-df-quickchart:hover {\n",
              "    background-color: var(--hover-bg-color);\n",
              "    box-shadow: 0 1px 2px rgba(60, 64, 67, 0.3), 0 1px 3px 1px rgba(60, 64, 67, 0.15);\n",
              "    fill: var(--button-hover-fill-color);\n",
              "  }\n",
              "\n",
              "  .colab-df-quickchart-complete:disabled,\n",
              "  .colab-df-quickchart-complete:disabled:hover {\n",
              "    background-color: var(--disabled-bg-color);\n",
              "    fill: var(--disabled-fill-color);\n",
              "    box-shadow: none;\n",
              "  }\n",
              "\n",
              "  .colab-df-spinner {\n",
              "    border: 2px solid var(--fill-color);\n",
              "    border-color: transparent;\n",
              "    border-bottom-color: var(--fill-color);\n",
              "    animation:\n",
              "      spin 1s steps(1) infinite;\n",
              "  }\n",
              "\n",
              "  @keyframes spin {\n",
              "    0% {\n",
              "      border-color: transparent;\n",
              "      border-bottom-color: var(--fill-color);\n",
              "      border-left-color: var(--fill-color);\n",
              "    }\n",
              "    20% {\n",
              "      border-color: transparent;\n",
              "      border-left-color: var(--fill-color);\n",
              "      border-top-color: var(--fill-color);\n",
              "    }\n",
              "    30% {\n",
              "      border-color: transparent;\n",
              "      border-left-color: var(--fill-color);\n",
              "      border-top-color: var(--fill-color);\n",
              "      border-right-color: var(--fill-color);\n",
              "    }\n",
              "    40% {\n",
              "      border-color: transparent;\n",
              "      border-right-color: var(--fill-color);\n",
              "      border-top-color: var(--fill-color);\n",
              "    }\n",
              "    60% {\n",
              "      border-color: transparent;\n",
              "      border-right-color: var(--fill-color);\n",
              "    }\n",
              "    80% {\n",
              "      border-color: transparent;\n",
              "      border-right-color: var(--fill-color);\n",
              "      border-bottom-color: var(--fill-color);\n",
              "    }\n",
              "    90% {\n",
              "      border-color: transparent;\n",
              "      border-bottom-color: var(--fill-color);\n",
              "    }\n",
              "  }\n",
              "</style>\n",
              "\n",
              "  <script>\n",
              "    async function quickchart(key) {\n",
              "      const quickchartButtonEl =\n",
              "        document.querySelector('#' + key + ' button');\n",
              "      quickchartButtonEl.disabled = true;  // To prevent multiple clicks.\n",
              "      quickchartButtonEl.classList.add('colab-df-spinner');\n",
              "      try {\n",
              "        const charts = await google.colab.kernel.invokeFunction(\n",
              "            'suggestCharts', [key], {});\n",
              "      } catch (error) {\n",
              "        console.error('Error during call to suggestCharts:', error);\n",
              "      }\n",
              "      quickchartButtonEl.classList.remove('colab-df-spinner');\n",
              "      quickchartButtonEl.classList.add('colab-df-quickchart-complete');\n",
              "    }\n",
              "    (() => {\n",
              "      let quickchartButtonEl =\n",
              "        document.querySelector('#df-7f41b870-2ff2-40c1-be2b-7eb461893041 button');\n",
              "      quickchartButtonEl.style.display =\n",
              "        google.colab.kernel.accessAllowed ? 'block' : 'none';\n",
              "    })();\n",
              "  </script>\n",
              "</div>\n",
              "    </div>\n",
              "  </div>\n"
            ],
            "application/vnd.google.colaboratory.intrinsic+json": {
              "type": "dataframe",
              "variable_name": "Modles_metrics",
              "summary": "{\n  \"name\": \"Modles_metrics\",\n  \"rows\": 63,\n  \"fields\": [\n    {\n      \"column\": \"Model name\",\n      \"properties\": {\n        \"dtype\": \"category\",\n        \"num_unique_values\": 7,\n        \"samples\": [\n          \"gradient_boosting\",\n          \"random_forest\",\n          \"logistic_regression\"\n        ],\n        \"semantic_type\": \"\",\n        \"description\": \"\"\n      }\n    },\n    {\n      \"column\": \"Feature selection\",\n      \"properties\": {\n        \"dtype\": \"category\",\n        \"num_unique_values\": 3,\n        \"samples\": [\n          \"univariate\",\n          \"corr\",\n          \"varianc\"\n        ],\n        \"semantic_type\": \"\",\n        \"description\": \"\"\n      }\n    },\n    {\n      \"column\": \"Scalre\",\n      \"properties\": {\n        \"dtype\": \"category\",\n        \"num_unique_values\": 3,\n        \"samples\": [\n          \"StandardScaler\",\n          \"MinMaxScaler\",\n          \"RobustScaler\"\n        ],\n        \"semantic_type\": \"\",\n        \"description\": \"\"\n      }\n    },\n    {\n      \"column\": \"Balance type\",\n      \"properties\": {\n        \"dtype\": \"category\",\n        \"num_unique_values\": 1,\n        \"samples\": [\n          \"Smote\"\n        ],\n        \"semantic_type\": \"\",\n        \"description\": \"\"\n      }\n    },\n    {\n      \"column\": \"Recall\",\n      \"properties\": {\n        \"dtype\": \"number\",\n        \"std\": 0.025977387187811615,\n        \"min\": 0.7599611273080661,\n        \"max\": 0.8668610301263362,\n        \"num_unique_values\": 33,\n        \"samples\": [\n          0.7638483965014577\n        ],\n        \"semantic_type\": \"\",\n        \"description\": \"\"\n      }\n    },\n    {\n      \"column\": \"Precision\",\n      \"properties\": {\n        \"dtype\": \"number\",\n        \"std\": 0.03191263368106237,\n        \"min\": 0.7197614991482112,\n        \"max\": 0.8310679611650486,\n        \"num_unique_values\": 41,\n        \"samples\": [\n          0.7517921146953405\n        ],\n        \"semantic_type\": \"\",\n        \"description\": \"\"\n      }\n    }\n  ]\n}"
            }
          },
          "metadata": {},
          "execution_count": 116
        }
      ]
    },
    {
      "cell_type": "markdown",
      "source": [
        "### Bagginh"
      ],
      "metadata": {
        "id": "FCpGZMXgXsnS"
      }
    },
    {
      "cell_type": "code",
      "source": [
        "X, Y = select_feature(df, 'univariate')\n",
        "X = scale_feature(X, 'MinMaxScaler')\n",
        "\n",
        "# Initialize a base learner (e.g., Decision Tree classifier)\n",
        "base_learner = DecisionTreeClassifier(random_state=42)\n",
        "\n",
        "# Initialize the Bagging classifier\n",
        "bagging_clf = BaggingClassifier(estimator=base_learner, n_estimators=10, random_state=42)\n",
        "\n",
        "Test_model(X, Y, bagging_clf)"
      ],
      "metadata": {
        "colab": {
          "base_uri": "https://localhost:8080/"
        },
        "id": "oJ-6AFb1XsLj",
        "outputId": "3f10782c-5bc4-4a4d-f39a-f38c89ac1169"
      },
      "execution_count": null,
      "outputs": [
        {
          "output_type": "execute_result",
          "data": {
            "text/plain": [
              "('Smote', [0.783284742468416, 0.8249744114636642])"
            ]
          },
          "metadata": {},
          "execution_count": 115
        }
      ]
    },
    {
      "cell_type": "markdown",
      "source": [
        "### Boosting"
      ],
      "metadata": {
        "id": "iCZLJz-z78YQ"
      }
    },
    {
      "cell_type": "code",
      "source": [
        "X, Y = select_feature(df, 'univariate')\n",
        "X = scale_feature(X, 'StandardScaler')\n",
        "\n",
        "base_learner = DecisionTreeClassifier(random_state=42)\n",
        "\n",
        "# Initialize the AdaBoost classifier\n",
        "adaboost_clf = AdaBoostClassifier(base_estimator=base_learner, n_estimators=10, random_state=42)\n",
        "Test_model(X, Y, bagging_clf)"
      ],
      "metadata": {
        "colab": {
          "base_uri": "https://localhost:8080/"
        },
        "id": "EcA4RQ0TXsBQ",
        "outputId": "3cfe4d32-9169-4939-b5c3-b5a5416c581d"
      },
      "execution_count": null,
      "outputs": [
        {
          "output_type": "execute_result",
          "data": {
            "text/plain": [
              "('Smote', [0.7978620019436345, 0.8251256281407036])"
            ]
          },
          "metadata": {},
          "execution_count": 117
        }
      ]
    },
    {
      "cell_type": "markdown",
      "source": [
        "### Hyper parameter"
      ],
      "metadata": {
        "id": "Ckl33HgJ-RqV"
      }
    },
    {
      "cell_type": "code",
      "source": [
        "X, Y = select_feature(df, 'univariate')\n",
        "X = scale_feature(X, 'StandardScaler')\n",
        "\n",
        "smote = SMOTE(random_state=42)\n",
        "X_resampled_smote, y_resampled_smote = smote.fit_resample(X, Y)\n",
        "X_train, X_test, y_train, y_test = train_test_split(X_resampled_smote, y_resampled_smote, test_size=0.2, random_state=42)\n",
        "\n",
        "param_grid_gb = {\n",
        "    'n_estimators': [100, 150],  # Number of trees in the forest\n",
        "    'learning_rate': [0.01, 0.1],  # Learning rate\n",
        "    'max_depth': [3, 5],  # Maximum depth of the trees\n",
        "    # Add more parameters as needed\n",
        "}\n",
        "\n",
        "gb_clf = GradientBoostingClassifier(random_state=42)\n",
        "\n",
        "grid_search_gb = GridSearchCV(gb_clf, param_grid_gb, cv=5, scoring='recall')\n",
        "grid_search_gb.fit(X_train, y_train)\n",
        "\n",
        "# Get the best hyperparameters\n",
        "best_params_gb = grid_search_gb.best_params_"
      ],
      "metadata": {
        "id": "WTVbSTQ2-VNO"
      },
      "execution_count": 16,
      "outputs": []
    },
    {
      "cell_type": "code",
      "source": [
        "best_params_gb"
      ],
      "metadata": {
        "colab": {
          "base_uri": "https://localhost:8080/"
        },
        "id": "PGOIjsHNKHfY",
        "outputId": "8e47a5c6-48c8-40ec-b32f-5ef5bd4e0f0c"
      },
      "execution_count": 17,
      "outputs": [
        {
          "output_type": "execute_result",
          "data": {
            "text/plain": [
              "{'learning_rate': 0.01, 'max_depth': 3, 'n_estimators': 100}"
            ]
          },
          "metadata": {},
          "execution_count": 17
        }
      ]
    },
    {
      "cell_type": "code",
      "source": [
        "y_pred = grid_search_gb.predict(X_test)\n",
        "recall_rus = recall_score(y_test, y_pred)\n",
        "print(f'Recall: {recall_rus}')"
      ],
      "metadata": {
        "colab": {
          "base_uri": "https://localhost:8080/"
        },
        "id": "s1a9FYM-AwO3",
        "outputId": "09ff9074-8ddc-40bb-a17f-a175bae47fb1"
      },
      "execution_count": 18,
      "outputs": [
        {
          "output_type": "stream",
          "name": "stdout",
          "text": [
            "Recall: 0.858114674441205\n"
          ]
        }
      ]
    },
    {
      "cell_type": "code",
      "source": [
        "X, Y = select_feature(df, 'univariate')\n",
        "X = scale_feature(X, 'MinMaxScaler')\n",
        "\n",
        "smote = SMOTE(random_state=42)\n",
        "X_resampled_smote, y_resampled_smote = smote.fit_resample(X, Y)\n",
        "X_train, X_test, y_train, y_test = train_test_split(X_resampled_smote, y_resampled_smote, test_size=0.2, random_state=42)\n",
        "\n",
        "\n",
        "param_grid_rf = {\n",
        "    'n_estimators': [100, 150],\n",
        "    'max_depth': [3,5,7],\n",
        "    'max_features':[0.2,0.7],\n",
        "    'min_samples_split': [2, 5],\n",
        "    'min_samples_leaf':[1,5]\n",
        "}\n",
        "\n",
        "rf_clf = RandomForestClassifier(random_state=42)\n",
        "grid_search_rf = GridSearchCV(rf_clf, param_grid_rf, cv=5, scoring='recall')\n",
        "grid_search_rf.fit(X_train, y_train)\n",
        "\n",
        "# Get the best hyperparameters\n",
        "best_params_rf = grid_search_rf.best_params_\n",
        "print(\"Best Hyperparameters for Random Forest:\", best_params_rf)\n",
        "\n",
        "# Best Hyperparameters for Random Forest: {'max_depth': 3, 'max_features': 0.7, 'min_samples_leaf': 1, 'min_samples_split': 2, 'n_estimators': 100}"
      ],
      "metadata": {
        "colab": {
          "base_uri": "https://localhost:8080/"
        },
        "id": "yWIn32whA3sP",
        "outputId": "8a4bca50-5e33-48fa-d7f6-6b8733aa7151"
      },
      "execution_count": 19,
      "outputs": [
        {
          "output_type": "stream",
          "name": "stdout",
          "text": [
            "Best Hyperparameters for Random Forest: {'max_depth': 3, 'max_features': 0.7, 'min_samples_leaf': 1, 'min_samples_split': 2, 'n_estimators': 100}\n"
          ]
        }
      ]
    },
    {
      "cell_type": "code",
      "source": [
        "print(grid_search_rf.best_score_)"
      ],
      "metadata": {
        "colab": {
          "base_uri": "https://localhost:8080/"
        },
        "id": "tXNfhdZTVoMu",
        "outputId": "7a8c3f70-c594-4668-98c7-ef70831af15d"
      },
      "execution_count": 20,
      "outputs": [
        {
          "output_type": "stream",
          "name": "stdout",
          "text": [
            "0.8853365968771867\n"
          ]
        }
      ]
    },
    {
      "cell_type": "markdown",
      "source": [
        "### Ensemble Model"
      ],
      "metadata": {
        "id": "gvblLFt4FDW8"
      }
    },
    {
      "cell_type": "code",
      "source": [
        "X, Y = select_feature(df, 'univariate')\n",
        "X = scale_feature(X, 'MinMaxScaler')\n",
        "\n",
        "smote = SMOTE(random_state=42)\n",
        "X_resampled_smote, y_resampled_smote = smote.fit_resample(X, Y)\n",
        "X_train, X_test, y_train, y_test = train_test_split(X_resampled_smote, y_resampled_smote, test_size=0.2, random_state=42)\n",
        "\n",
        "# Initialize the best Gradient Boosting classifier with the best hyperparameters\n",
        "best_gb_clf = GradientBoostingClassifier(**best_params_gb, random_state=42)\n",
        "\n",
        "# Initialize the best Random Forest classifier with the best hyperparameters\n",
        "best_rf_clf = RandomForestClassifier(**best_params_rf, random_state=42)\n",
        "\n",
        "# Create an ensemble model with the best classifiers\n",
        "ensemble_clf = VotingClassifier(estimators=[\n",
        "    ('Gradient Boosting', best_gb_clf),\n",
        "    ('Random Forest', best_rf_clf)\n",
        "], voting='soft')  # Use 'soft' voting for probability-based ensemble\n",
        "\n",
        "# Train the ensemble model on the training data\n",
        "ensemble_clf.fit(X_train, y_train)\n",
        "\n",
        "y_pred = ensemble_clf.predict(X_test)\n",
        "recall = recall_score(y_test, y_pred)\n",
        "print(\"Ensemble Model F1 Score:\", recall)"
      ],
      "metadata": {
        "colab": {
          "base_uri": "https://localhost:8080/"
        },
        "id": "TM7HRu21FBR4",
        "outputId": "1780ad36-54d6-434d-e52b-60fc516da1ce"
      },
      "execution_count": 22,
      "outputs": [
        {
          "output_type": "stream",
          "name": "stdout",
          "text": [
            "Ensemble Model F1 Score: 0.8746355685131195\n"
          ]
        }
      ]
    },
    {
      "cell_type": "code",
      "source": [
        "ensemble_clf"
      ],
      "metadata": {
        "colab": {
          "base_uri": "https://localhost:8080/",
          "height": 110
        },
        "id": "cln-JgQboPyQ",
        "outputId": "b9d6594e-5c1a-46d1-fad3-435db66f294c"
      },
      "execution_count": 28,
      "outputs": [
        {
          "output_type": "execute_result",
          "data": {
            "text/plain": [
              "VotingClassifier(estimators=[('Gradient Boosting',\n",
              "                              GradientBoostingClassifier(learning_rate=0.01,\n",
              "                                                         random_state=42)),\n",
              "                             ('Random Forest',\n",
              "                              RandomForestClassifier(max_depth=3,\n",
              "                                                     max_features=0.7,\n",
              "                                                     random_state=42))],\n",
              "                 voting='soft')"
            ],
            "text/html": [
              "<style>#sk-container-id-2 {color: black;background-color: white;}#sk-container-id-2 pre{padding: 0;}#sk-container-id-2 div.sk-toggleable {background-color: white;}#sk-container-id-2 label.sk-toggleable__label {cursor: pointer;display: block;width: 100%;margin-bottom: 0;padding: 0.3em;box-sizing: border-box;text-align: center;}#sk-container-id-2 label.sk-toggleable__label-arrow:before {content: \"▸\";float: left;margin-right: 0.25em;color: #696969;}#sk-container-id-2 label.sk-toggleable__label-arrow:hover:before {color: black;}#sk-container-id-2 div.sk-estimator:hover label.sk-toggleable__label-arrow:before {color: black;}#sk-container-id-2 div.sk-toggleable__content {max-height: 0;max-width: 0;overflow: hidden;text-align: left;background-color: #f0f8ff;}#sk-container-id-2 div.sk-toggleable__content pre {margin: 0.2em;color: black;border-radius: 0.25em;background-color: #f0f8ff;}#sk-container-id-2 input.sk-toggleable__control:checked~div.sk-toggleable__content {max-height: 200px;max-width: 100%;overflow: auto;}#sk-container-id-2 input.sk-toggleable__control:checked~label.sk-toggleable__label-arrow:before {content: \"▾\";}#sk-container-id-2 div.sk-estimator input.sk-toggleable__control:checked~label.sk-toggleable__label {background-color: #d4ebff;}#sk-container-id-2 div.sk-label input.sk-toggleable__control:checked~label.sk-toggleable__label {background-color: #d4ebff;}#sk-container-id-2 input.sk-hidden--visually {border: 0;clip: rect(1px 1px 1px 1px);clip: rect(1px, 1px, 1px, 1px);height: 1px;margin: -1px;overflow: hidden;padding: 0;position: absolute;width: 1px;}#sk-container-id-2 div.sk-estimator {font-family: monospace;background-color: #f0f8ff;border: 1px dotted black;border-radius: 0.25em;box-sizing: border-box;margin-bottom: 0.5em;}#sk-container-id-2 div.sk-estimator:hover {background-color: #d4ebff;}#sk-container-id-2 div.sk-parallel-item::after {content: \"\";width: 100%;border-bottom: 1px solid gray;flex-grow: 1;}#sk-container-id-2 div.sk-label:hover label.sk-toggleable__label {background-color: #d4ebff;}#sk-container-id-2 div.sk-serial::before {content: \"\";position: absolute;border-left: 1px solid gray;box-sizing: border-box;top: 0;bottom: 0;left: 50%;z-index: 0;}#sk-container-id-2 div.sk-serial {display: flex;flex-direction: column;align-items: center;background-color: white;padding-right: 0.2em;padding-left: 0.2em;position: relative;}#sk-container-id-2 div.sk-item {position: relative;z-index: 1;}#sk-container-id-2 div.sk-parallel {display: flex;align-items: stretch;justify-content: center;background-color: white;position: relative;}#sk-container-id-2 div.sk-item::before, #sk-container-id-2 div.sk-parallel-item::before {content: \"\";position: absolute;border-left: 1px solid gray;box-sizing: border-box;top: 0;bottom: 0;left: 50%;z-index: -1;}#sk-container-id-2 div.sk-parallel-item {display: flex;flex-direction: column;z-index: 1;position: relative;background-color: white;}#sk-container-id-2 div.sk-parallel-item:first-child::after {align-self: flex-end;width: 50%;}#sk-container-id-2 div.sk-parallel-item:last-child::after {align-self: flex-start;width: 50%;}#sk-container-id-2 div.sk-parallel-item:only-child::after {width: 0;}#sk-container-id-2 div.sk-dashed-wrapped {border: 1px dashed gray;margin: 0 0.4em 0.5em 0.4em;box-sizing: border-box;padding-bottom: 0.4em;background-color: white;}#sk-container-id-2 div.sk-label label {font-family: monospace;font-weight: bold;display: inline-block;line-height: 1.2em;}#sk-container-id-2 div.sk-label-container {text-align: center;}#sk-container-id-2 div.sk-container {/* jupyter's `normalize.less` sets `[hidden] { display: none; }` but bootstrap.min.css set `[hidden] { display: none !important; }` so we also need the `!important` here to be able to override the default hidden behavior on the sphinx rendered scikit-learn.org. See: https://github.com/scikit-learn/scikit-learn/issues/21755 */display: inline-block !important;position: relative;}#sk-container-id-2 div.sk-text-repr-fallback {display: none;}</style><div id=\"sk-container-id-2\" class=\"sk-top-container\"><div class=\"sk-text-repr-fallback\"><pre>VotingClassifier(estimators=[(&#x27;Gradient Boosting&#x27;,\n",
              "                              GradientBoostingClassifier(learning_rate=0.01,\n",
              "                                                         random_state=42)),\n",
              "                             (&#x27;Random Forest&#x27;,\n",
              "                              RandomForestClassifier(max_depth=3,\n",
              "                                                     max_features=0.7,\n",
              "                                                     random_state=42))],\n",
              "                 voting=&#x27;soft&#x27;)</pre><b>In a Jupyter environment, please rerun this cell to show the HTML representation or trust the notebook. <br />On GitHub, the HTML representation is unable to render, please try loading this page with nbviewer.org.</b></div><div class=\"sk-container\" hidden><div class=\"sk-item sk-dashed-wrapped\"><div class=\"sk-label-container\"><div class=\"sk-label sk-toggleable\"><input class=\"sk-toggleable__control sk-hidden--visually\" id=\"sk-estimator-id-4\" type=\"checkbox\" ><label for=\"sk-estimator-id-4\" class=\"sk-toggleable__label sk-toggleable__label-arrow\">VotingClassifier</label><div class=\"sk-toggleable__content\"><pre>VotingClassifier(estimators=[(&#x27;Gradient Boosting&#x27;,\n",
              "                              GradientBoostingClassifier(learning_rate=0.01,\n",
              "                                                         random_state=42)),\n",
              "                             (&#x27;Random Forest&#x27;,\n",
              "                              RandomForestClassifier(max_depth=3,\n",
              "                                                     max_features=0.7,\n",
              "                                                     random_state=42))],\n",
              "                 voting=&#x27;soft&#x27;)</pre></div></div></div><div class=\"sk-parallel\"><div class=\"sk-parallel-item\"><div class=\"sk-item\"><div class=\"sk-label-container\"><div class=\"sk-label sk-toggleable\"><label>Gradient Boosting</label></div></div><div class=\"sk-serial\"><div class=\"sk-item\"><div class=\"sk-estimator sk-toggleable\"><input class=\"sk-toggleable__control sk-hidden--visually\" id=\"sk-estimator-id-5\" type=\"checkbox\" ><label for=\"sk-estimator-id-5\" class=\"sk-toggleable__label sk-toggleable__label-arrow\">GradientBoostingClassifier</label><div class=\"sk-toggleable__content\"><pre>GradientBoostingClassifier(learning_rate=0.01, random_state=42)</pre></div></div></div></div></div></div><div class=\"sk-parallel-item\"><div class=\"sk-item\"><div class=\"sk-label-container\"><div class=\"sk-label sk-toggleable\"><label>Random Forest</label></div></div><div class=\"sk-serial\"><div class=\"sk-item\"><div class=\"sk-estimator sk-toggleable\"><input class=\"sk-toggleable__control sk-hidden--visually\" id=\"sk-estimator-id-6\" type=\"checkbox\" ><label for=\"sk-estimator-id-6\" class=\"sk-toggleable__label sk-toggleable__label-arrow\">RandomForestClassifier</label><div class=\"sk-toggleable__content\"><pre>RandomForestClassifier(max_depth=3, max_features=0.7, random_state=42)</pre></div></div></div></div></div></div></div></div></div></div>"
            ]
          },
          "metadata": {},
          "execution_count": 28
        }
      ]
    },
    {
      "cell_type": "code",
      "source": [
        "print(classification_report(y_test, y_pred))"
      ],
      "metadata": {
        "colab": {
          "base_uri": "https://localhost:8080/"
        },
        "id": "7wDas5nQk41y",
        "outputId": "be30edd2-f600-4ee2-9992-c956b84fcfc3"
      },
      "execution_count": 27,
      "outputs": [
        {
          "output_type": "stream",
          "name": "stdout",
          "text": [
            "              precision    recall  f1-score   support\n",
            "\n",
            "           0       0.84      0.66      0.74      1037\n",
            "           1       0.72      0.87      0.79      1029\n",
            "\n",
            "    accuracy                           0.77      2066\n",
            "   macro avg       0.78      0.77      0.76      2066\n",
            "weighted avg       0.78      0.77      0.76      2066\n",
            "\n"
          ]
        }
      ]
    },
    {
      "cell_type": "markdown",
      "source": [
        "# Save & Deployment"
      ],
      "metadata": {
        "id": "Htwp5cQ0BD64"
      }
    },
    {
      "cell_type": "markdown",
      "source": [
        "- [x] Model Serialization\n",
        "- [ ] Model API\n",
        "  - [ ] Create API\n",
        "  - [ ] Documentation\n",
        "- [ ] Containerization\n",
        "- [ ] Scalability\n",
        "- [ ] Monitoring"
      ],
      "metadata": {
        "id": "jb5rvAwKnSHg"
      }
    },
    {
      "cell_type": "markdown",
      "source": [
        "##  save model"
      ],
      "metadata": {
        "id": "hQpLY3gDoJN_"
      }
    },
    {
      "cell_type": "code",
      "source": [
        "!ls -sh drive/MyDrive/Data"
      ],
      "metadata": {
        "colab": {
          "base_uri": "https://localhost:8080/"
        },
        "id": "HpXyfA8VoY2A",
        "outputId": "1a1e7a7b-d4f0-4fe3-d92a-01de6b88b119"
      },
      "execution_count": 35,
      "outputs": [
        {
          "output_type": "stream",
          "name": "stdout",
          "text": [
            "total 1.3M\n",
            "1.0K Gradient-Boosting_Random-Forest.joblib  340K Telco-Customer-Churn_V1.csv\n",
            "955K Telco-Customer-Churn.csv\n"
          ]
        }
      ]
    },
    {
      "cell_type": "code",
      "source": [
        "import joblib\n",
        "model_file_path = 'drive/MyDrive/Data/Gradient-Boosting_Random-Forest.joblib'\n",
        "\n",
        "# Save the model to a file using joblib\n",
        "joblib.dump(best_gb_clf, model_file_path)\n",
        "\n",
        "print(\"Model saved successfully.\")"
      ],
      "metadata": {
        "id": "Pv3UU-QqBPFw",
        "colab": {
          "base_uri": "https://localhost:8080/"
        },
        "outputId": "0195f8bd-e2f5-429a-b0e3-846f3ee47de5"
      },
      "execution_count": 31,
      "outputs": [
        {
          "output_type": "stream",
          "name": "stdout",
          "text": [
            "Model saved successfully.\n"
          ]
        }
      ]
    }
  ]
}