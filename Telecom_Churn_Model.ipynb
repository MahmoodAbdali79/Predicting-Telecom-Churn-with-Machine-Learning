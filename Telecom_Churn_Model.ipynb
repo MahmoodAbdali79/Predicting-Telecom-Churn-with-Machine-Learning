{
  "nbformat": 4,
  "nbformat_minor": 0,
  "metadata": {
    "colab": {
      "provenance": [],
      "collapsed_sections": [
        "e5id3BAnjeMM",
        "nSp7w6PSjhAr",
        "5ucoSSCD-0jI",
        "3klW0S5zAuFp",
        "cmNRVAFVXlcb",
        "3thBLiVhXsHk",
        "BtHb3cLAXwBt",
        "ZgK2ateeAxKp",
        "OUl7Q5NWA6fI",
        "Htwp5cQ0BD64"
      ],
      "authorship_tag": "ABX9TyPbfkC22J0gafgjy80C7la8",
      "include_colab_link": true
    },
    "kernelspec": {
      "name": "python3",
      "display_name": "Python 3"
    },
    "language_info": {
      "name": "python"
    }
  },
  "cells": [
    {
      "cell_type": "markdown",
      "metadata": {
        "id": "view-in-github",
        "colab_type": "text"
      },
      "source": [
        "<a href=\"https://colab.research.google.com/github/MahmoodAbdali79/Telecom-Churn/blob/main/Telecom_Churn_Model.ipynb\" target=\"_parent\"><img src=\"https://colab.research.google.com/assets/colab-badge.svg\" alt=\"Open In Colab\"/></a>"
      ]
    },
    {
      "cell_type": "markdown",
      "source": [
        "# Seting Up"
      ],
      "metadata": {
        "id": "e5id3BAnjeMM"
      }
    },
    {
      "cell_type": "code",
      "source": [
        "import numpy as np\n",
        "import pandas as pd\n",
        "import matplotlib.pyplot as plt\n",
        "import seaborn as sns\n",
        "from sklearn.feature_selection import VarianceThreshold\n",
        "from sklearn.preprocessing import LabelEncoder\n",
        "from sklearn.preprocessing import RobustScaler"
      ],
      "metadata": {
        "id": "cE2GeaV59qjB"
      },
      "execution_count": 273,
      "outputs": []
    },
    {
      "cell_type": "code",
      "source": [
        "from google.colab import drive\n",
        "drive.mount('/content/drive')"
      ],
      "metadata": {
        "colab": {
          "base_uri": "https://localhost:8080/"
        },
        "id": "bqH-QRJS9sW5",
        "outputId": "db48f506-ffd1-419a-cac9-b89f9cf5f6a1"
      },
      "execution_count": 274,
      "outputs": [
        {
          "output_type": "stream",
          "name": "stdout",
          "text": [
            "Drive already mounted at /content/drive; to attempt to forcibly remount, call drive.mount(\"/content/drive\", force_remount=True).\n"
          ]
        }
      ]
    },
    {
      "cell_type": "markdown",
      "source": [
        "# Load Data & Manipulation"
      ],
      "metadata": {
        "id": "nSp7w6PSjhAr"
      }
    },
    {
      "cell_type": "code",
      "source": [
        "df = pd.read_csv('drive/MyDrive/Data/Telco-Customer-Churn.csv')"
      ],
      "metadata": {
        "id": "E5uFXQLI9oad"
      },
      "execution_count": 275,
      "outputs": []
    },
    {
      "cell_type": "code",
      "source": [
        "def preprocess(df):\n",
        "  # drop Customer ID\n",
        "  df.drop(['customerID'], axis=1, inplace=True)\n",
        "\n",
        "  # turn into numerical and fill NA value\n",
        "  df['TotalCharges'] = pd.to_numeric(df['TotalCharges'], errors='coerce')\n",
        "  df['TotalCharges_missing'] = df['TotalCharges'].isnull().astype(int)\n",
        "\n",
        "  imputation_value = df['TotalCharges'].mode()[0] # for considering mode\n",
        "  # imputation_value = df['TotalCharges'].mean() # for considering mean\n",
        "  # imputation_value = df['TotalCharges'].median() # for considering median\n",
        "  df['TotalCharges'] = df['TotalCharges'].fillna(imputation_value)\n",
        "\n",
        "  # drop rows with tenure of 0\n",
        "  df.drop(labels=df[df['tenure']==0].index, axis=0, inplace=True)\n",
        "\n",
        "  # map SeniorCitizen\n",
        "  df['SeniorCitizen'] = df['SeniorCitizen'].map({0:\"No\", 1:\"Yes\"})\n",
        "\n",
        "  for col in df.columns:\n",
        "    if len(df[col].unique()) < 2:\n",
        "      df.drop(col, axis=1, inplace=True)\n",
        "  return df"
      ],
      "metadata": {
        "id": "SnCRDQse8P5Y"
      },
      "execution_count": 276,
      "outputs": []
    },
    {
      "cell_type": "code",
      "source": [
        "df = preprocess(df)"
      ],
      "metadata": {
        "id": "QzAk8Db18Rfn"
      },
      "execution_count": 277,
      "outputs": []
    },
    {
      "cell_type": "markdown",
      "source": [
        "# Feature Engineering"
      ],
      "metadata": {
        "id": "XYQH7P3a-hlR"
      }
    },
    {
      "cell_type": "markdown",
      "source": [
        " ## Feature Encoding\n"
      ],
      "metadata": {
        "id": "5ucoSSCD-0jI"
      }
    },
    {
      "cell_type": "markdown",
      "source": [
        "  - Quantitative data:\n",
        "    - [ ] Tranformation\n",
        "    - [ ] Bining\n",
        "    - [ ] Demention reduction\n",
        "    - [ ] Standard and scale\n",
        "  - Categorical data:\n",
        "    - [ ] One hot encoding\n",
        "    - [x] Lable endcoding\n",
        "    - [ ] Hashing"
      ],
      "metadata": {
        "id": "m7KTAO9VLDPG"
      }
    },
    {
      "cell_type": "code",
      "source": [
        "#Create a label encoder object\n",
        "le = LabelEncoder()\n",
        "# Label Encoding will be used for columns with 2 or less unique\n",
        "for col in df.columns:\n",
        "    if df[col].dtype == 'object':\n",
        "      le.fit(df[col])\n",
        "      df[col] = le.transform(df[col])"
      ],
      "metadata": {
        "id": "Aiz85fB17Sd_"
      },
      "execution_count": 278,
      "outputs": []
    },
    {
      "cell_type": "markdown",
      "source": [
        "## Feature Selection"
      ],
      "metadata": {
        "id": "3klW0S5zAuFp"
      }
    },
    {
      "cell_type": "markdown",
      "source": [
        "### Filter Method\n",
        "- Correation\n",
        "  - Best feature for remove: MonthlyCharges, tenure             \n",
        "- Vatiance\n",
        "  - Best feature for remove:  \n",
        "  PaperlessBilling, gender, Dependents, PhoneService, Partner, SeniorCitizen\n",
        "- Univariate feature selection:\n",
        "  - Best feature for remove:  \n",
        "  MultipleLines, gender, StreamingTV, StreamingMovies, PhoneService, InternetService"
      ],
      "metadata": {
        "id": "Mx0_RArGKYcm"
      }
    },
    {
      "cell_type": "markdown",
      "source": [
        "#### Correation"
      ],
      "metadata": {
        "id": "cmNRVAFVXlcb"
      }
    },
    {
      "cell_type": "code",
      "source": [
        "corr = df.corr()\n",
        "\n",
        "threshold = 0.5  # threshold\n",
        "\n",
        "# Find pairs of features that exceed the threshold\n",
        "highly_correlated_pairs = []\n",
        "for i in range(len(corr.columns)):\n",
        "    for j in range(i+1, len(corr.columns)):\n",
        "        if abs(corr.iloc[i, j]) > threshold:\n",
        "            highly_correlated_pairs.append((corr.index[i], corr.columns[j], corr.iloc[i, j].round(3)))\n",
        "\n",
        "# Print highly correlated pairs\n",
        "print(\"Highly correlated pairs with correlation coefficient > {}: \".format(threshold))\n",
        "for pair in highly_correlated_pairs:\n",
        "    print(pair)\n",
        "\n",
        "\n",
        "corr_omissions = ['tenure', 'MonthlyCharges']"
      ],
      "metadata": {
        "colab": {
          "base_uri": "https://localhost:8080/"
        },
        "id": "a-2GQnZzBVi4",
        "outputId": "d30a0a08-0145-4b9b-b8d0-e82698bf2450"
      },
      "execution_count": 279,
      "outputs": [
        {
          "output_type": "stream",
          "name": "stdout",
          "text": [
            "Highly correlated pairs with correlation coefficient > 0.5: \n",
            "('tenure', 'Contract', 0.677)\n",
            "('tenure', 'TotalCharges', 0.826)\n",
            "('MonthlyCharges', 'TotalCharges', 0.651)\n"
          ]
        }
      ]
    },
    {
      "cell_type": "code",
      "source": [
        "correlation = df.corrwith(df.Churn)\n",
        "correlation = correlation[correlation!=1].sort_values()\n",
        "correlation"
      ],
      "metadata": {
        "colab": {
          "base_uri": "https://localhost:8080/"
        },
        "id": "BMla4BMyXFtb",
        "outputId": "d315bf5a-9430-42f5-abb7-955984fcd748"
      },
      "execution_count": 280,
      "outputs": [
        {
          "output_type": "execute_result",
          "data": {
            "text/plain": [
              "Contract           -0.396150\n",
              "tenure             -0.354049\n",
              "OnlineSecurity     -0.289050\n",
              "TechSupport        -0.282232\n",
              "TotalCharges       -0.199484\n",
              "OnlineBackup       -0.195290\n",
              "DeviceProtection   -0.177883\n",
              "Dependents         -0.163128\n",
              "Partner            -0.149982\n",
              "InternetService    -0.047097\n",
              "StreamingMovies    -0.038802\n",
              "StreamingTV        -0.036303\n",
              "gender             -0.008545\n",
              "PhoneService        0.011691\n",
              "MultipleLines       0.038043\n",
              "PaymentMethod       0.107852\n",
              "SeniorCitizen       0.150541\n",
              "PaperlessBilling    0.191454\n",
              "MonthlyCharges      0.192858\n",
              "dtype: float64"
            ]
          },
          "metadata": {},
          "execution_count": 280
        }
      ]
    },
    {
      "cell_type": "markdown",
      "source": [
        "#### Vatiance"
      ],
      "metadata": {
        "id": "3thBLiVhXsHk"
      }
    },
    {
      "cell_type": "code",
      "source": [
        "threshold = 0.5  # Example threshold\n",
        "\n",
        "# Apply VarianceThreshold\n",
        "selector = VarianceThreshold(threshold=threshold)\n",
        "features = df.drop('Churn', axis=1)\n",
        "selector.fit(features)\n",
        "\n",
        "# Get selected features\n",
        "selected_features = features.columns[selector.get_support()]\n",
        "\n",
        "x = set(selected_features)\n",
        "y = set(features.columns)\n",
        "print(\"Selected features based on variance threshold of {}: \".format(threshold))\n",
        "print('Potential features to remove: ', y-x)\n",
        "\n",
        "carianc_omissions = list(y-x)"
      ],
      "metadata": {
        "colab": {
          "base_uri": "https://localhost:8080/"
        },
        "id": "d2PS66p8l70R",
        "outputId": "c7b262d5-937f-4069-8f25-e0f00b247644"
      },
      "execution_count": 281,
      "outputs": [
        {
          "output_type": "stream",
          "name": "stdout",
          "text": [
            "Selected features based on variance threshold of 0.5: \n",
            "Potential features to remove:  {'PaperlessBilling', 'gender', 'Dependents', 'PhoneService', 'Partner', 'SeniorCitizen'}\n"
          ]
        }
      ]
    },
    {
      "cell_type": "markdown",
      "source": [
        "#### Univariate feature selection"
      ],
      "metadata": {
        "id": "BtHb3cLAXwBt"
      }
    },
    {
      "cell_type": "code",
      "source": [
        "from sklearn.feature_selection import SelectKBest\n",
        "from sklearn.feature_selection import f_classif\n",
        "from sklearn.model_selection import train_test_split\n",
        "\n",
        "\n",
        "X = df.drop('Churn', axis=1)\n",
        "y = df['Churn']\n",
        "\n",
        "# Split the data into training and testing sets\n",
        "X_train, X_test, y_train, y_test = train_test_split(X, y, test_size=0.2, random_state=42)\n",
        "\n",
        "# Perform feature selection using ANOVA F-value\n",
        "k = 13  # Number of features to select\n",
        "selector = SelectKBest(score_func=f_classif, k=k)\n",
        "X_train_selected = selector.fit_transform(X_train, y_train)\n",
        "selected_features = X.columns[selector.get_support()]\n",
        "\n",
        "x = set(selected_features)\n",
        "y = set(features.columns)\n",
        "print('Potential features to remove: ', y-x)\n",
        "\n",
        "univariate_omissions = list(y-x)"
      ],
      "metadata": {
        "colab": {
          "base_uri": "https://localhost:8080/"
        },
        "id": "LaWxEmH1qfEP",
        "outputId": "a6ef7a79-5a32-48b2-c7ec-57f1327c2adb"
      },
      "execution_count": 282,
      "outputs": [
        {
          "output_type": "stream",
          "name": "stdout",
          "text": [
            "Potential features to remove:  {'MultipleLines', 'gender', 'StreamingTV', 'StreamingMovies', 'PhoneService', 'InternetService'}\n"
          ]
        }
      ]
    },
    {
      "cell_type": "markdown",
      "source": [
        "### conclusion for filtering\n",
        "- [x] correlation\n",
        "- [ ] variance\n",
        "- [ ] univariate"
      ],
      "metadata": {
        "id": "eNPpgab9vwzr"
      }
    },
    {
      "cell_type": "code",
      "source": [
        "X = df.drop(corr_omissions + ['Churn'], axis=1)\n",
        "Y = df['Churn']"
      ],
      "metadata": {
        "id": "2unfYyyjwWP1"
      },
      "execution_count": 283,
      "outputs": []
    },
    {
      "cell_type": "markdown",
      "source": [
        "## Feature Scaling"
      ],
      "metadata": {
        "id": "6Sb-0qdb76CZ"
      }
    },
    {
      "cell_type": "markdown",
      "source": [
        "- [ ] Standardization (Z-score normalization)\n",
        "- [ ] Min-Max sclaing\n",
        "- [x] Robust sclaling"
      ],
      "metadata": {
        "id": "XNGeZl0o8bEQ"
      }
    },
    {
      "cell_type": "code",
      "source": [
        "def plot_numerical_feature(cat, ax):\n",
        "  sns.kdeplot(X[cat][Y==0], color=\"Blue\", fill=True, ax=ax)\n",
        "  sns.kdeplot(X[cat][Y==1], color=\"Red\", fill= True, ax=ax)\n",
        "  ax.legend([\"Not Churn\",\"Churn\"],loc='upper right')\n",
        "  ax.set_title(f'Distribution of {col} by churn', fontweight=\"bold\")\n",
        "  fig.tight_layout()\n",
        "\n",
        "\n",
        "#plot un scaled feature\n",
        "fig, axes = plt.subplots(1, 2, figsize=(10, 4))\n",
        "plot_numerical_feature('TotalCharges', axes[0])\n",
        "\n",
        "#scale feature\n",
        "robust_scaler = RobustScaler()\n",
        "X['TotalCharges'] = robust_scaler.fit_transform(X['TotalCharges'].values.reshape(-1, 1))\n",
        "\n",
        "#plot scaled feature\n",
        "plot_numerical_feature('TotalCharges', axes[1])\n",
        "plt.show()"
      ],
      "metadata": {
        "colab": {
          "base_uri": "https://localhost:8080/",
          "height": 407
        },
        "id": "bdUhiz1Z8arH",
        "outputId": "1cfdc021-6f9b-4f28-eee0-7a6be8105d2c"
      },
      "execution_count": 284,
      "outputs": [
        {
          "output_type": "display_data",
          "data": {
            "text/plain": [
              "<Figure size 1000x400 with 2 Axes>"
            ],
            "image/png": "[encoded data removed]"
          },
          "metadata": {}
        }
      ]
    },
    {
      "cell_type": "markdown",
      "source": [
        "# Model Selection"
      ],
      "metadata": {
        "id": "ZgK2ateeAxKp"
      }
    },
    {
      "cell_type": "code",
      "source": [],
      "metadata": {
        "id": "ouvtnLKiA1_A"
      },
      "execution_count": null,
      "outputs": []
    },
    {
      "cell_type": "markdown",
      "source": [
        "# Model training and Evaluation"
      ],
      "metadata": {
        "id": "OUl7Q5NWA6fI"
      }
    },
    {
      "cell_type": "code",
      "source": [],
      "metadata": {
        "id": "Aab5P81AA_aq"
      },
      "execution_count": null,
      "outputs": []
    },
    {
      "cell_type": "markdown",
      "source": [
        "# Deployment"
      ],
      "metadata": {
        "id": "Htwp5cQ0BD64"
      }
    },
    {
      "cell_type": "code",
      "source": [],
      "metadata": {
        "id": "Pv3UU-QqBPFw"
      },
      "execution_count": null,
      "outputs": []
    }
  ]
}